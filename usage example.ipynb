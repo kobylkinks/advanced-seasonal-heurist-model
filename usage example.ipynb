{
 "cells": [
  {
   "cell_type": "code",
   "execution_count": null,
   "id": "4efe850b",
   "metadata": {},
   "outputs": [],
   "source": [
    "import pandas as pd"
   ]
  },
  {
   "cell_type": "code",
   "execution_count": null,
   "id": "macro-regard",
   "metadata": {},
   "outputs": [],
   "source": [
    "df = pd.read_csv('data.csv')\n",
    "df['date'] = pd.to_datetime(df['date'], format = '%Y-%m-%d')"
   ]
  },
  {
   "cell_type": "markdown",
   "id": "60d9a30c",
   "metadata": {},
   "source": [
    "# Формирование таблицы с временными рядами\n",
    "\n",
    "Каждая строка таблицы соответствует определенной дате, каждая колонка таблицы - это временной ряд."
   ]
  },
  {
   "cell_type": "code",
   "execution_count": null,
   "id": "automatic-browse",
   "metadata": {},
   "outputs": [],
   "source": [
    "df_detailed_pivoted = df.pivot_table(columns=complete_divisions_list,\n",
    "                                     values=target_parameter,\n",
    "                                     index=date_parameter,\n",
    "                                     aggfunc=np.nansum)"
   ]
  },
  {
   "cell_type": "code",
   "execution_count": null,
   "id": "bored-carrier",
   "metadata": {},
   "outputs": [],
   "source": [
    "ind = pd.date_range(start=df_detailed_pivoted.index[0],\n",
    "                    end=df_detailed_pivoted.index[-1],\n",
    "                    freq='M')\n",
    "df_detailed_pivoted = df_detailed_pivoted.reindex(ind,\n",
    "                                                  fill_value=0.2)"
   ]
  },
  {
   "cell_type": "markdown",
   "id": "introductory-hebrew",
   "metadata": {},
   "source": [
    "# Импорт необходимых библиотек"
   ]
  },
  {
   "cell_type": "code",
   "execution_count": null,
   "id": "vietnamese-assignment",
   "metadata": {},
   "outputs": [],
   "source": [
    "from share_meta_model import ShareMetaModel\n",
    "from mean_model import ConstantModel, SlidingConstantModel\n",
    "from quarter_mean_model import QuarterConstantModel\n",
    "from seasonal_heuristic_model import RobustSeasonalHeuristicModel, SimpleSeasonalHeuristicModel, SlidingSeasonalHeuristicModel\n",
    "from best_model import BestModelChooser"
   ]
  },
  {
   "cell_type": "markdown",
   "id": "bronze-pepper",
   "metadata": {},
   "source": [
    "# Формирование данных"
   ]
  },
  {
   "cell_type": "code",
   "execution_count": null,
   "id": "composed-purchase",
   "metadata": {},
   "outputs": [],
   "source": [
    "df_detailed_pivoted[np.abs(df_detailed_pivoted) < 0.2] = 0.2\n",
    "df_detailed_pivoted = df_detailed_pivoted.fillna(0.2)"
   ]
  },
  {
   "cell_type": "markdown",
   "id": "fifteen-developer",
   "metadata": {},
   "source": [
    "# Создание зоопарка моделей"
   ]
  },
  {
   "cell_type": "code",
   "execution_count": null,
   "id": "confidential-development",
   "metadata": {},
   "outputs": [],
   "source": [
    "sliding_mean_models = {}\n",
    "\n",
    "for sliding_window_size in (3, 6, 9, 12):\n",
    "    sliding_mean_models['sliding_mean_' + str(sliding_window_size)] = \\\n",
    "        {'model_type': SlidingConstantModel,\n",
    "         'model_config': {'mean_window_size': sliding_window_size,\n",
    "                          'mean_type': 'mean'}}"
   ]
  },
  {
   "cell_type": "code",
   "execution_count": null,
   "id": "verbal-ideal",
   "metadata": {},
   "outputs": [],
   "source": [
    "median_models = {}\n",
    "\n",
    "for window_size in (6, 9, 12):\n",
    "    median_models['median_' + str(window_size)] = \\\n",
    "        {'model_type': ConstantModel,\n",
    "         'model_config': {'mean_window_size': window_size,\n",
    "                          'mean_type': 'median'}}"
   ]
  },
  {
   "cell_type": "code",
   "execution_count": null,
   "id": "directed-captain",
   "metadata": {},
   "outputs": [],
   "source": [
    "quarter_models = {}\n",
    "\n",
    "for n_quarters in (1, 2, 3):\n",
    "    quarter_models['quarter_' + str(n_quarters)] = \\\n",
    "        {'model_type': QuarterConstantModel,\n",
    "         'model_config': {'n_quarters': n_quarters,\n",
    "                          'mean_type': 'mean',\n",
    "                          'remove_incomplete_latest_quarter': True}}"
   ]
  },
  {
   "cell_type": "code",
   "execution_count": null,
   "id": "intensive-finger",
   "metadata": {},
   "outputs": [],
   "source": [
    "seasonal_models = {}\n",
    "\n",
    "for past_smoothing_offset_size in (-1, -2):\n",
    "    seasonal_models['seasonal_' + str(-past_smoothing_offset_size * 2 + 1)] = \\\n",
    "        {'model_type': RobustSeasonalHeuristicModel,\n",
    "         'model_config': {'past_smoothing_offset_size': past_smoothing_offset_size,\n",
    "                          'future_smoothing_offset_size': -past_smoothing_offset_size,\n",
    "                          'smoothing_n_years': 1,\n",
    "                          'reconcile_forecasts': True,\n",
    "                          'almost_zero_value': 1e-19,\n",
    "                          'n_years': 1,\n",
    "                          'n_months': 3}}"
   ]
  },
  {
   "cell_type": "code",
   "execution_count": null,
   "id": "broadband-lebanon",
   "metadata": {},
   "outputs": [],
   "source": [
    "simple_models = {**sliding_mean_models, \n",
    "                 **median_models,\n",
    "                 **quarter_models,\n",
    "                 **seasonal_models}"
   ]
  },
  {
   "cell_type": "code",
   "execution_count": null,
   "id": "significant-genealogy",
   "metadata": {},
   "outputs": [],
   "source": [
    "models_zoo = {**simple_models,\n",
    "              'nan': median_models['median_6']}"
   ]
  },
  {
   "cell_type": "markdown",
   "id": "material-philip",
   "metadata": {},
   "source": [
    "# Прогноз"
   ]
  },
  {
   "cell_type": "code",
   "execution_count": null,
   "id": "enabling-fraction",
   "metadata": {},
   "outputs": [],
   "source": [
    "model = BestModelChooser(models_zoo=models_zoo,\n",
    "                         group_columns_to_estimate_mape=[],\n",
    "                         series=df_detailed_pivoted,\n",
    "                         horizon=12,\n",
    "                         backtest_depth=6,\n",
    "                         backtest_horizon=3,\n",
    "                         max_n_series_to_process_at_once=40000,\n",
    "                         percentage_to_select_best_models=15,\n",
    "                         additive_percentage_to_select_best_models=2)\n",
    "model.fit()\n",
    "predictions = model.predict()"
   ]
  },
  {
   "cell_type": "markdown",
   "id": "facial-dispute",
   "metadata": {},
   "source": [
    "# Проверка на наличие пропусков в прогнозе"
   ]
  },
  {
   "cell_type": "code",
   "execution_count": null,
   "id": "indie-fundamentals",
   "metadata": {},
   "outputs": [],
   "source": [
    "df = predictions.isna().sum(axis=0)\n",
    "df[df > 0].index"
   ]
  },
  {
   "cell_type": "markdown",
   "id": "false-premises",
   "metadata": {},
   "source": [
    "# Заполнение близких к нулю значений обычным 0"
   ]
  },
  {
   "cell_type": "code",
   "execution_count": null,
   "id": "corrected-generation",
   "metadata": {},
   "outputs": [],
   "source": [
    "predictions[np.abs(predictions) <= 0.21] = 0.0"
   ]
  },
  {
   "cell_type": "markdown",
   "id": "corresponding-width",
   "metadata": {},
   "source": [
    "# Просмотр списка рядов, для которого делается прогноз заданной моделью"
   ]
  },
  {
   "cell_type": "code",
   "execution_count": null,
   "id": "exotic-electricity",
   "metadata": {},
   "outputs": [],
   "source": [
    "model.divisions_for_model['seasonal_5']"
   ]
  },
  {
   "cell_type": "markdown",
   "id": "greek-cheese",
   "metadata": {},
   "source": [
    "# Ошибки всех моделей на данном ряде"
   ]
  },
  {
   "cell_type": "code",
   "execution_count": null,
   "id": "mineral-failing",
   "metadata": {},
   "outputs": [],
   "source": [
    "model.models_errors.loc[]"
   ]
  },
  {
   "cell_type": "markdown",
   "id": "australian-sperm",
   "metadata": {},
   "source": [
    "# Все модели, вошедшие в ансамбль для данного разреза\n",
    "\n",
    "Значение `True` означает, что модель входит в ансамбль, значение `False` - не входит"
   ]
  },
  {
   "cell_type": "code",
   "execution_count": null,
   "id": "listed-scheme",
   "metadata": {},
   "outputs": [],
   "source": [
    "model.best_models.loc[]"
   ]
  }
 ],
 "metadata": {
  "kernelspec": {
   "display_name": "Python 3 (ipykernel)",
   "language": "python",
   "name": "python3"
  },
  "language_info": {
   "codemirror_mode": {
    "name": "ipython",
    "version": 3
   },
   "file_extension": ".py",
   "mimetype": "text/x-python",
   "name": "python",
   "nbconvert_exporter": "python",
   "pygments_lexer": "ipython3",
   "version": "3.10.9"
  }
 },
 "nbformat": 4,
 "nbformat_minor": 5
}
